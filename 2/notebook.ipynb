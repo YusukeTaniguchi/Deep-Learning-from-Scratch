{
 "cells": [
  {
   "cell_type": "code",
   "execution_count": null,
   "metadata": {},
   "outputs": [],
   "source": [
    "import numpy as np\n",
    "x = np.array([0, 1])\n",
    "w = np.array([0.5, 0.5])\n",
    "b = -0.7\n",
    "w * x"
   ]
  },
  {
   "cell_type": "code",
   "execution_count": null,
   "metadata": {},
   "outputs": [],
   "source": [
    "np.sum(w * x)"
   ]
  },
  {
   "cell_type": "code",
   "execution_count": null,
   "metadata": {},
   "outputs": [],
   "source": [
    "np.sum(w * x) + b"
   ]
  },
  {
   "cell_type": "code",
   "execution_count": null,
   "metadata": {},
   "outputs": [],
   "source": [
    "import numpy as np\n",
    "x = np.array([-1.0, 1.0, 2.0])\n",
    "x"
   ]
  },
  {
   "cell_type": "code",
   "execution_count": null,
   "metadata": {},
   "outputs": [],
   "source": [
    "y = x > 0\n",
    "y"
   ]
  },
  {
   "cell_type": "code",
   "execution_count": null,
   "metadata": {},
   "outputs": [],
   "source": [
    "y = y.astype(np.int)\n",
    "y"
   ]
  },
  {
   "cell_type": "code",
   "execution_count": null,
   "metadata": {},
   "outputs": [],
   "source": [
    "import numpy as np\n",
    "A = np.array([1, 2, 3, 4])\n",
    "A"
   ]
  },
  {
   "cell_type": "code",
   "execution_count": null,
   "metadata": {},
   "outputs": [],
   "source": [
    "np.ndim(A)"
   ]
  },
  {
   "cell_type": "code",
   "execution_count": null,
   "metadata": {},
   "outputs": [],
   "source": [
    "A.shape"
   ]
  },
  {
   "cell_type": "code",
   "execution_count": null,
   "metadata": {},
   "outputs": [],
   "source": [
    "A.shape[0]"
   ]
  },
  {
   "cell_type": "code",
   "execution_count": null,
   "metadata": {},
   "outputs": [],
   "source": [
    "B = np.array([[1,2], [3,4], [5,6]])\n",
    "B"
   ]
  },
  {
   "cell_type": "code",
   "execution_count": null,
   "metadata": {},
   "outputs": [],
   "source": [
    "B"
   ]
  },
  {
   "cell_type": "code",
   "execution_count": null,
   "metadata": {},
   "outputs": [],
   "source": [
    "np.ndim(B)"
   ]
  },
  {
   "cell_type": "code",
   "execution_count": null,
   "metadata": {},
   "outputs": [],
   "source": [
    "B.shape"
   ]
  },
  {
   "cell_type": "code",
   "execution_count": null,
   "metadata": {},
   "outputs": [],
   "source": [
    "A = np.array([[1,2], [3,4]])\n",
    "A.shape"
   ]
  },
  {
   "cell_type": "code",
   "execution_count": null,
   "metadata": {},
   "outputs": [],
   "source": [
    "B = np.array([[5, 6], [7, 8]])"
   ]
  },
  {
   "cell_type": "code",
   "execution_count": null,
   "metadata": {},
   "outputs": [],
   "source": [
    "B.shape"
   ]
  },
  {
   "cell_type": "code",
   "execution_count": null,
   "metadata": {},
   "outputs": [],
   "source": [
    "np.dot(A, B)"
   ]
  },
  {
   "cell_type": "code",
   "execution_count": null,
   "metadata": {},
   "outputs": [],
   "source": [
    "A = np.array([[1, 2, 3], [4, 5, 6]])\n",
    "A.shape"
   ]
  },
  {
   "cell_type": "code",
   "execution_count": null,
   "metadata": {},
   "outputs": [],
   "source": [
    "B = np.array([[1, 2], [3, 4], [5, 6]])\n",
    "B.shape"
   ]
  },
  {
   "cell_type": "code",
   "execution_count": null,
   "metadata": {},
   "outputs": [],
   "source": [
    "np.dot(A, B)"
   ]
  },
  {
   "cell_type": "code",
   "execution_count": null,
   "metadata": {},
   "outputs": [],
   "source": [
    "C = np.array([[1,2], [3,4]])\n",
    "C.shape"
   ]
  },
  {
   "cell_type": "code",
   "execution_count": null,
   "metadata": {},
   "outputs": [],
   "source": [
    "A.shape"
   ]
  },
  {
   "cell_type": "code",
   "execution_count": null,
   "metadata": {},
   "outputs": [],
   "source": [
    "np.dot(A, C)"
   ]
  },
  {
   "cell_type": "code",
   "execution_count": null,
   "metadata": {},
   "outputs": [],
   "source": [
    "A = np.array([[1, 2], [3, 4], [5, 6]])\n",
    "A.shape"
   ]
  },
  {
   "cell_type": "code",
   "execution_count": null,
   "metadata": {},
   "outputs": [],
   "source": [
    "B = np.array([7, 8])\n",
    "B.shape"
   ]
  },
  {
   "cell_type": "code",
   "execution_count": null,
   "metadata": {},
   "outputs": [],
   "source": [
    "np.dot(A, B)"
   ]
  },
  {
   "cell_type": "code",
   "execution_count": null,
   "metadata": {},
   "outputs": [],
   "source": [
    "import numpy as np\n",
    "X = np.array([1,2])\n",
    "X.shape"
   ]
  },
  {
   "cell_type": "code",
   "execution_count": null,
   "metadata": {},
   "outputs": [],
   "source": [
    "W = np.array([[1, 3, 5], [2, 4, 6]])\n",
    "print(W)"
   ]
  },
  {
   "cell_type": "code",
   "execution_count": null,
   "metadata": {},
   "outputs": [],
   "source": [
    "W.shape"
   ]
  },
  {
   "cell_type": "code",
   "execution_count": null,
   "metadata": {},
   "outputs": [],
   "source": [
    "Y = np.dot(X, W)\n",
    "Y"
   ]
  },
  {
   "cell_type": "code",
   "execution_count": null,
   "metadata": {},
   "outputs": [],
   "source": [
    "X = np.array([[1.0,0.5]])\n",
    "W1 = np.array([[0.1, 0.3, 0.5], [0.2, 0.4, 0.6]])\n",
    "B1 = np.array([0.1, 0.2, 0.3])\n",
    "\n",
    "print(W1.shape)\n",
    "print(X.shape)\n",
    "print(B1.shape)\n",
    "\n",
    "A1 = np.dot(X, W1) + B1\n",
    "A1"
   ]
  },
  {
   "cell_type": "code",
   "execution_count": null,
   "metadata": {},
   "outputs": [],
   "source": [
    "def sigmoid(x):\n",
    "    return 1 / (1 + np.exp(-x))\n",
    "\n",
    "Z1 = sigmoid(A1)\n",
    "Z1"
   ]
  },
  {
   "cell_type": "code",
   "execution_count": null,
   "metadata": {},
   "outputs": [],
   "source": [
    "W2 = np.array([[0.1, 0.4], [0.2, 0.5], [0.3, 0.6]])\n",
    "B2 = np.array([0.1, 0.2])\n",
    "\n",
    "print(Z1.shape)\n",
    "print(W2.shape)\n",
    "print(B2.shape)"
   ]
  },
  {
   "cell_type": "code",
   "execution_count": null,
   "metadata": {},
   "outputs": [],
   "source": [
    "A2 = np.dot(Z1, W2) + B2\n",
    "Z2 = sigmoid(A2)\n",
    "Z2"
   ]
  },
  {
   "cell_type": "code",
   "execution_count": null,
   "metadata": {},
   "outputs": [],
   "source": [
    "W3 = np.array([[0.1, 0.3], [0.2, 0.4]])\n",
    "B3 = np.array([0.1, 0.2])\n",
    "\n",
    "A3 = np.dot(Z2, W3) + B3\n",
    "Y = A3\n",
    "Y"
   ]
  },
  {
   "cell_type": "code",
   "execution_count": null,
   "metadata": {},
   "outputs": [],
   "source": [
    "a = np.array([0.3, 2.9, 4.0])\n",
    "exp_a = np.exp(a)\n",
    "exp_a"
   ]
  },
  {
   "cell_type": "code",
   "execution_count": null,
   "metadata": {},
   "outputs": [],
   "source": [
    "sum_exp_a = np.sum(exp_a)\n",
    "sum_exp_a"
   ]
  },
  {
   "cell_type": "code",
   "execution_count": null,
   "metadata": {},
   "outputs": [],
   "source": [
    "y = exp_a / sum_exp_a\n",
    "y"
   ]
  },
  {
   "cell_type": "code",
   "execution_count": null,
   "metadata": {},
   "outputs": [],
   "source": [
    "a = np.array([1010, 1000, 990])\n",
    "np.exp(a) / np.sum(np.exp(a))"
   ]
  },
  {
   "cell_type": "code",
   "execution_count": null,
   "metadata": {},
   "outputs": [],
   "source": [
    "c = np.max(a)\n",
    "a- c"
   ]
  },
  {
   "cell_type": "code",
   "execution_count": null,
   "metadata": {},
   "outputs": [],
   "source": [
    "np.exp(a-c) / np.sum(np.exp(a-c))"
   ]
  },
  {
   "cell_type": "code",
   "execution_count": null,
   "metadata": {},
   "outputs": [],
   "source": [
    "from softmax import softmax\n",
    "\n",
    "a = np.array([0.3, 2.9, 4.0])\n",
    "y = softmax(a)\n",
    "print(y)"
   ]
  },
  {
   "cell_type": "code",
   "execution_count": null,
   "metadata": {},
   "outputs": [],
   "source": [
    "import neuralnet_mnist as NM\n",
    "\n",
    "x, _ = NM.get_data()\n",
    "network = NM.init_network()\n",
    "W1, W2, W3 = network[\"W1\"], network[\"W2\"], network[\"W3\"]\n",
    "x.shape"
   ]
  },
  {
   "cell_type": "code",
   "execution_count": null,
   "metadata": {},
   "outputs": [],
   "source": [
    "x.shape"
   ]
  },
  {
   "cell_type": "code",
   "execution_count": null,
   "metadata": {},
   "outputs": [],
   "source": [
    "W1.shape"
   ]
  },
  {
   "cell_type": "code",
   "execution_count": null,
   "metadata": {},
   "outputs": [],
   "source": [
    "W2.shape"
   ]
  },
  {
   "cell_type": "code",
   "execution_count": null,
   "metadata": {},
   "outputs": [],
   "source": [
    "W3.shape"
   ]
  },
  {
   "cell_type": "code",
   "execution_count": null,
   "metadata": {},
   "outputs": [],
   "source": [
    "list(range(0,10))"
   ]
  },
  {
   "cell_type": "code",
   "execution_count": null,
   "metadata": {},
   "outputs": [],
   "source": [
    "list(range(0, 10, 3))"
   ]
  },
  {
   "cell_type": "code",
   "execution_count": null,
   "metadata": {},
   "outputs": [],
   "source": [
    "import numpy as np\n",
    "x = np.array([[0.1, 0.8, 0.1],\n",
    "              [0.3, 0.1, 0.6],\n",
    "              [0.2, 0.5, 0.3],\n",
    "              [0.8, 0.1, 0.1]])\n",
    "np.argmax(x, axis = 1)"
   ]
  },
  {
   "cell_type": "code",
   "execution_count": null,
   "metadata": {},
   "outputs": [],
   "source": [
    "y = np.array([1, 2, 1, 0])\n",
    "t = np.array([1, 2, 0, 0])\n",
    "y == t"
   ]
  },
  {
   "cell_type": "code",
   "execution_count": null,
   "metadata": {},
   "outputs": [],
   "source": [
    "y = [0.1, 0.05, 0.6, 0.0, 0.05, 0.1, 0.0, 0.1, 0.0, 0.0]\n",
    "t = [0, 0, 1, 0, 0, 0, 0, 0, 0, 0]"
   ]
  },
  {
   "cell_type": "code",
   "execution_count": null,
   "metadata": {},
   "outputs": [],
   "source": [
    "from mean_squared_error import mean_squared_error as MSE\n",
    "import numpy as np\n",
    "MSE(np.array(y), np.array(t))\n"
   ]
  },
  {
   "cell_type": "code",
   "execution_count": null,
   "metadata": {},
   "outputs": [],
   "source": [
    "y = [0.1, 0.05, 0.1, 0.0, 0.05, 0.1, 0.0, 0.6, 0.0, 0.0]\n",
    "MSE(np.array(y), np.array(t))\n",
    "\n"
   ]
  },
  {
   "cell_type": "code",
   "execution_count": null,
   "metadata": {},
   "outputs": [],
   "source": [
    "from cross_entropy_error import cross_entropy_error as CEE\n",
    "y = [0.1, 0.05, 0.6, 0.0, 0.05, 0.1, 0.0, 0.1, 0.0, 0.0]\n",
    "CEE(np.array(y), np.array(t))"
   ]
  },
  {
   "cell_type": "code",
   "execution_count": null,
   "metadata": {},
   "outputs": [],
   "source": [
    "y = [0.1, 0.05, 0.1, 0.0, 0.05, 0.1, 0.0, 0.6, 0.0, 0.0]\n",
    "CEE(np.array(y), np.array(t))\n"
   ]
  },
  {
   "cell_type": "code",
   "execution_count": null,
   "metadata": {},
   "outputs": [],
   "source": [
    "np.random.choice(60000, 10)"
   ]
  },
  {
   "cell_type": "code",
   "execution_count": null,
   "metadata": {},
   "outputs": [],
   "source": [
    "import numpy as np\n",
    "import matplotlib.pylab as plt\n",
    "%matplotlib inline\n",
    "\n",
    "def function_1(x):\n",
    "    return 0.01 * x ** 2 + 0.1 * x\n",
    "\n",
    "x = np.arange(0.0, 20.0, 0.1)\n",
    "y = function_1(x)\n",
    "plt.plot(x, y)"
   ]
  },
  {
   "cell_type": "code",
   "execution_count": null,
   "metadata": {},
   "outputs": [],
   "source": [
    "def numerical_diff(f, x):\n",
    "    h = 1e-4\n",
    "    return (f(x + h) - f(x - h)) / (2*h)\n",
    "\n",
    "numerical_diff(function_1 , 5)"
   ]
  },
  {
   "cell_type": "code",
   "execution_count": null,
   "metadata": {},
   "outputs": [],
   "source": [
    "numerical_diff(function_1, 10)"
   ]
  },
  {
   "cell_type": "code",
   "execution_count": null,
   "metadata": {},
   "outputs": [],
   "source": [
    "def function_2(x):\n",
    "    return x[0] ** 2 + x[1] ** 2\n"
   ]
  },
  {
   "cell_type": "code",
   "execution_count": null,
   "metadata": {},
   "outputs": [],
   "source": [
    "def function_tmp1(x0):\n",
    "    return x0*x0 + 4.0**2.0\n",
    "\n",
    "numerical_diff(function_tmp1, 3.0)"
   ]
  },
  {
   "cell_type": "code",
   "execution_count": null,
   "metadata": {},
   "outputs": [],
   "source": [
    "def function_tmp2(x1):\n",
    "    return 3.0 ** 2.0 + x1 * x1\n",
    "\n",
    "numerical_diff(function_tmp2, 4.0)"
   ]
  },
  {
   "cell_type": "code",
   "execution_count": null,
   "metadata": {},
   "outputs": [],
   "source": [
    "from numerical_gradient import numerical_gradient as NG\n",
    "import numpy as np\n",
    "NG(function_2, np.array([3.0, 4.0]))"
   ]
  },
  {
   "cell_type": "code",
   "execution_count": null,
   "metadata": {},
   "outputs": [],
   "source": [
    "NG(function_2, np.array([0.0, 2.0]))"
   ]
  },
  {
   "cell_type": "code",
   "execution_count": null,
   "metadata": {},
   "outputs": [],
   "source": [
    "NG(function_2, np.array([3.0, 0.0]))"
   ]
  },
  {
   "cell_type": "code",
   "execution_count": null,
   "metadata": {},
   "outputs": [],
   "source": [
    "from two_layer_net import TwoLayerNet\n",
    "\n",
    "net = TwoLayerNet(input_size = 784, hidden_size = 100, output_size = 10)\n",
    "print(net.params[\"W1\"].shape)\n",
    "print(net.params[\"b1\"].shape)\n",
    "print(net.params[\"W2\"].shape)\n",
    "print(net.params[\"b2\"].shape)"
   ]
  },
  {
   "cell_type": "code",
   "execution_count": null,
   "metadata": {},
   "outputs": [],
   "source": [
    "import numpy as np\n",
    "x = np.random.rand(100, 784)\n",
    "y = net.predict(x)\n",
    "y"
   ]
  },
  {
   "cell_type": "code",
   "execution_count": null,
   "metadata": {},
   "outputs": [],
   "source": [
    "x = np.random.rand(100, 784)\n",
    "t = np.random.rand(100, 10)\n",
    "\n",
    "grads = net.numerical_gradient(x, t)\n",
    "print(grads[\"W1\"].shape)\n",
    "print(grads[\"b1\"].shape)\n",
    "print(grads[\"W2\"].shape)\n",
    "print(grads[\"b2\"].shape)"
   ]
  },
  {
   "cell_type": "code",
   "execution_count": null,
   "metadata": {},
   "outputs": [],
   "source": [
    "type(x)"
   ]
  },
  {
   "cell_type": "code",
   "execution_count": null,
   "metadata": {},
   "outputs": [],
   "source": [
    "type(np.array(1))"
   ]
  },
  {
   "cell_type": "code",
   "execution_count": null,
   "metadata": {},
   "outputs": [],
   "source": [
    "from MulLayer import MulLayer\n",
    "\n",
    "apple = 100\n",
    "apple_num = 2\n",
    "tax = 1.1\n",
    "\n",
    "mul_apple_layer = MulLayer()\n",
    "mul_tax_layer = MulLayer()\n",
    "\n",
    "apple_price = mul_apple_layer.forward(apple, apple_num)\n",
    "price = mul_tax_layer.forward(apple_price, tax)\n",
    "\n",
    "price"
   ]
  },
  {
   "cell_type": "code",
   "execution_count": null,
   "metadata": {},
   "outputs": [],
   "source": [
    "dprice = 1\n",
    "dapple_price, dtax = mul_tax_layer.backword(dprice)\n",
    "dapple, dapple_num = mul_apple_layer.backword(dapple_price)\n",
    "print(dapple, dapple_num, dtax)"
   ]
  },
  {
   "cell_type": "code",
   "execution_count": null,
   "metadata": {},
   "outputs": [],
   "source": [
    "from MulLayer import MulLayer\n",
    "from AddLayer import AddLayer\n",
    "\n",
    "apple = 100\n",
    "apple_num = 2\n",
    "orange = 150\n",
    "orange_num = 3\n",
    "tax = 1.1\n",
    "\n",
    "mul_apple_layer = MulLayer()\n",
    "mul_orange_layer = MulLayer()\n",
    "add_apple_orange_layer = AddLayer()\n",
    "mul_tax_layer = MulLayer()\n",
    "\n",
    "apple_price = mul_apple_layer.forward(apple, apple_num)\n",
    "orange_price = mul_orange_layer.forward(orange, orange_num)\n",
    "all_price = add_apple_orange_layer.forward(apple_price, orange_price)\n",
    "price = mul_tax_layer.forward(all_price, tax)\n",
    "\n",
    "dprice = 1\n",
    "dall_price, dtax = mul_tax_layer.backward(dprice)\n",
    "dapple_price, dorange_price = add_apple_orange_layer.backward(dall_price)\n",
    "dorange, dorange_num = mul_orange_layer.backward(dorange_price)\n",
    "dapple, dapple_num = mul_apple_layer.backward(dapple_price)\n",
    "\n",
    "print(price)\n",
    "print(dapple_num, dapple, dorange, dorange_num, dtax)"
   ]
  },
  {
   "cell_type": "code",
   "execution_count": null,
   "metadata": {},
   "outputs": [],
   "source": [
    "import numpy as np\n",
    "\n",
    "X = np.random.rand(2)\n",
    "W = np.random.rand(2, 3)\n",
    "B = np.random.rand(3)\n",
    "\n",
    "print(X.shape)\n",
    "print(W.shape)\n",
    "print(B.shape)\n",
    "\n",
    "Y = np.dot(X, W) + B"
   ]
  },
  {
   "cell_type": "code",
   "execution_count": null,
   "metadata": {},
   "outputs": [],
   "source": [
    "X_dot_W = np.array([[0, 0, 0], [10, 10, 10]])\n",
    "B = np.array([1, 2, 3])\n",
    "X_dot_W\n"
   ]
  },
  {
   "cell_type": "code",
   "execution_count": null,
   "metadata": {},
   "outputs": [],
   "source": [
    "X_dot_W + B"
   ]
  },
  {
   "cell_type": "code",
   "execution_count": null,
   "metadata": {},
   "outputs": [],
   "source": [
    "dY = np.array([[1, 2, 3],[4, 5, 6]])\n",
    "dY"
   ]
  },
  {
   "cell_type": "code",
   "execution_count": null,
   "metadata": {},
   "outputs": [],
   "source": [
    "dB = np.sum(dY, axis = 0)"
   ]
  },
  {
   "cell_type": "code",
   "execution_count": 1,
   "metadata": {},
   "outputs": [
    {
     "name": "stdout",
     "output_type": "stream",
     "text": [
      "W1:4.048790474589709e-10\n",
      "b1:2.313500225274061e-09\n",
      "W2:4.945103335541039e-09\n",
      "b2:1.4021870996250296e-07\n"
     ]
    }
   ],
   "source": [
    "import numpy as np\n",
    "from dataset.mnist import load_mnist\n",
    "from TwoLayerNet import TwoLayerNet\n",
    "\n",
    "(x_train, t_train), (x_test, t_test) = load_mnist(normalize=True, one_hot_label = True)\n",
    "\n",
    "network = TwoLayerNet(input_size = 784, hidden_size = 50, output_size = 10)\n",
    "\n",
    "x_batch = x_train[:3]\n",
    "t_batch = t_train[:3]\n",
    "\n",
    "grad_numerical = network.numerical_gradient(x_batch, t_batch)\n",
    "grad_backprop = network.gradient(x_batch, t_batch)\n",
    "\n",
    "for key in grad_numerical.keys():\n",
    "    diff = np.average(np.abs(grad_backprop[key] - grad_numerical[key]))\n",
    "    print(key + \":\" + str(diff))"
   ]
  },
  {
   "cell_type": "code",
   "execution_count": null,
   "metadata": {},
   "outputs": [],
   "source": [
    "grad_numerical.keys()"
   ]
  },
  {
   "cell_type": "code",
   "execution_count": null,
   "metadata": {},
   "outputs": [],
   "source": [
    "grad_numerical.values()"
   ]
  },
  {
   "cell_type": "code",
   "execution_count": 1,
   "metadata": {},
   "outputs": [
    {
     "data": {
      "text/plain": [
       "(10, 1, 28, 28)"
      ]
     },
     "execution_count": 1,
     "metadata": {},
     "output_type": "execute_result"
    }
   ],
   "source": [
    "import numpy as np\n",
    "x = np.random.rand(10, 1, 28, 28)\n",
    "x.shape"
   ]
  },
  {
   "cell_type": "code",
   "execution_count": 2,
   "metadata": {},
   "outputs": [
    {
     "data": {
      "text/plain": [
       "(1, 28, 28)"
      ]
     },
     "execution_count": 2,
     "metadata": {},
     "output_type": "execute_result"
    }
   ],
   "source": [
    "x[0].shape"
   ]
  },
  {
   "cell_type": "code",
   "execution_count": 3,
   "metadata": {},
   "outputs": [
    {
     "data": {
      "text/plain": [
       "(1, 28, 28)"
      ]
     },
     "execution_count": 3,
     "metadata": {},
     "output_type": "execute_result"
    }
   ],
   "source": [
    "x[1].shape"
   ]
  },
  {
   "cell_type": "code",
   "execution_count": 4,
   "metadata": {},
   "outputs": [
    {
     "data": {
      "text/plain": [
       "array([[0.7053008 , 0.94697573, 0.30758815, 0.10525855, 0.79473449,\n",
       "        0.12077626, 0.7365232 , 0.70988066, 0.49984895, 0.31612331,\n",
       "        0.07871283, 0.19300054, 0.23182585, 0.12322702, 0.38430248,\n",
       "        0.66597448, 0.14700375, 0.92936391, 0.09285916, 0.31044415,\n",
       "        0.981465  , 0.21183044, 0.1324076 , 0.17333132, 0.75970944,\n",
       "        0.1879308 , 0.84223574, 0.22064664],\n",
       "       [0.88182033, 0.62450106, 0.07204218, 0.36133266, 0.70380849,\n",
       "        0.61536526, 0.0258385 , 0.38523944, 0.18152222, 0.51623464,\n",
       "        0.52896159, 0.72041062, 0.10035061, 0.37842994, 0.79105254,\n",
       "        0.22280538, 0.24557112, 0.1706846 , 0.81156799, 0.00325029,\n",
       "        0.09571986, 0.59243578, 0.68516427, 0.94536728, 0.28023195,\n",
       "        0.32298277, 0.51451074, 0.46633011],\n",
       "       [0.82492334, 0.05526287, 0.6058063 , 0.4286385 , 0.83155758,\n",
       "        0.03817553, 0.48343317, 0.27263986, 0.18009352, 0.43987697,\n",
       "        0.64338416, 0.76715196, 0.99830078, 0.56699638, 0.13583208,\n",
       "        0.63352873, 0.77392328, 0.84964908, 0.23875553, 0.33680809,\n",
       "        0.94701154, 0.80383824, 0.01413731, 0.25048765, 0.13522301,\n",
       "        0.60801537, 0.83119323, 0.92610659],\n",
       "       [0.69462198, 0.90203929, 0.45060491, 0.37595322, 0.57851947,\n",
       "        0.94849904, 0.58552756, 0.38457321, 0.55293712, 0.03152874,\n",
       "        0.18546517, 0.62769354, 0.52380007, 0.85068575, 0.55746954,\n",
       "        0.31007022, 0.94407784, 0.92253498, 0.6602354 , 0.37951555,\n",
       "        0.84022027, 0.26777813, 0.86871618, 0.67439537, 0.22834395,\n",
       "        0.59211827, 0.52118432, 0.66773438],\n",
       "       [0.42093518, 0.06905092, 0.89302727, 0.14716863, 0.21205839,\n",
       "        0.20117032, 0.87435837, 0.66816148, 0.96780062, 0.7949066 ,\n",
       "        0.64802338, 0.61618753, 0.86300177, 0.6989052 , 0.09927074,\n",
       "        0.88443108, 0.79464644, 0.38253499, 0.07523327, 0.77086453,\n",
       "        0.06301356, 0.27715545, 0.27304736, 0.98527086, 0.29009972,\n",
       "        0.34262494, 0.1874123 , 0.69705241],\n",
       "       [0.58366685, 0.10682573, 0.92935889, 0.35189002, 0.74194054,\n",
       "        0.85316548, 0.14241607, 0.24859103, 0.0011543 , 0.74766149,\n",
       "        0.96880355, 0.06609724, 0.59971679, 0.37493012, 0.07707246,\n",
       "        0.78672994, 0.43585055, 0.91919714, 0.8957005 , 0.4460289 ,\n",
       "        0.17778257, 0.30042676, 0.39657071, 0.77269164, 0.66753794,\n",
       "        0.91177395, 0.15457713, 0.95742899],\n",
       "       [0.29910581, 0.83313674, 0.45273656, 0.33007721, 0.58743025,\n",
       "        0.01637704, 0.50641609, 0.6884965 , 0.75814824, 0.33380793,\n",
       "        0.55529953, 0.90313687, 0.77257904, 0.15929001, 0.29424155,\n",
       "        0.46895538, 0.35665668, 0.20694037, 0.24383239, 0.40134131,\n",
       "        0.15950025, 0.03892975, 0.61558556, 0.84745516, 0.03281565,\n",
       "        0.85352091, 0.6211582 , 0.96905592],\n",
       "       [0.13828741, 0.70047339, 0.62842126, 0.1545463 , 0.41950289,\n",
       "        0.06506425, 0.83757224, 0.95084186, 0.56368131, 0.8417674 ,\n",
       "        0.00246592, 0.53298432, 0.67463715, 0.47011892, 0.51507115,\n",
       "        0.69046216, 0.13057082, 0.70438779, 0.13560419, 0.73432548,\n",
       "        0.47972737, 0.06780197, 0.54582478, 0.98229423, 0.7006253 ,\n",
       "        0.15559499, 0.24735584, 0.34695314],\n",
       "       [0.54001959, 0.79377682, 0.64178344, 0.34347968, 0.35706851,\n",
       "        0.85534697, 0.68469612, 0.75794257, 0.26122094, 0.42468924,\n",
       "        0.98825689, 0.53492977, 0.49344766, 0.59187099, 0.18988842,\n",
       "        0.78376566, 0.79510417, 0.68040915, 0.35725379, 0.20449541,\n",
       "        0.50518046, 0.12786501, 0.19360185, 0.3628593 , 0.05079535,\n",
       "        0.83810696, 0.88287384, 0.99176322],\n",
       "       [0.21936581, 0.56739868, 0.38998012, 0.48452588, 0.48187875,\n",
       "        0.78773146, 0.73197217, 0.37608788, 0.23875208, 0.45969617,\n",
       "        0.75489981, 0.20935179, 0.66505744, 0.79804876, 0.05865977,\n",
       "        0.79212024, 0.9470091 , 0.86860023, 0.38275693, 0.82009421,\n",
       "        0.54393772, 0.0336497 , 0.92539719, 0.53352207, 0.8789869 ,\n",
       "        0.29073274, 0.55765001, 0.31590626],\n",
       "       [0.72728257, 0.97605125, 0.30115386, 0.25123551, 0.8528865 ,\n",
       "        0.11165782, 0.25970116, 0.09054103, 0.46869043, 0.38763542,\n",
       "        0.9455717 , 0.26603671, 0.96147329, 0.49720494, 0.27310082,\n",
       "        0.86132833, 0.56313388, 0.55047593, 0.68219002, 0.64053953,\n",
       "        0.14197208, 0.28878644, 0.37711188, 0.40527088, 0.77918044,\n",
       "        0.22136961, 0.65071277, 0.91539507],\n",
       "       [0.70366289, 0.74853678, 0.93703428, 0.90201188, 0.48888284,\n",
       "        0.97956023, 0.35974895, 0.08834529, 0.96474428, 0.81058942,\n",
       "        0.86986167, 0.03856582, 0.18134989, 0.18732704, 0.73026759,\n",
       "        0.46607711, 0.67610683, 0.1210197 , 0.60193323, 0.0885049 ,\n",
       "        0.69622094, 0.10552346, 0.53256685, 0.85436463, 0.98127324,\n",
       "        0.15637861, 0.57398463, 0.29712221],\n",
       "       [0.68059248, 0.8675339 , 0.51615698, 0.40273591, 0.01511923,\n",
       "        0.24104834, 0.42778812, 0.28294231, 0.58319494, 0.87653186,\n",
       "        0.01842191, 0.93024566, 0.76247364, 0.65984674, 0.36960447,\n",
       "        0.73545811, 0.50600327, 0.16566149, 0.94854553, 0.44339066,\n",
       "        0.05953267, 0.6219456 , 0.30637537, 0.07588457, 0.73647653,\n",
       "        0.9515953 , 0.66998961, 0.22133272],\n",
       "       [0.69292341, 0.75536968, 0.06139252, 0.28507887, 0.31371306,\n",
       "        0.70065145, 0.32878108, 0.13803585, 0.01479979, 0.47134738,\n",
       "        0.67970443, 0.37588389, 0.35227239, 0.6127575 , 0.55651609,\n",
       "        0.67024567, 0.84771554, 0.50455616, 0.93431743, 0.21867586,\n",
       "        0.26770887, 0.42064025, 0.548797  , 0.91854005, 0.68226565,\n",
       "        0.28963873, 0.91441757, 0.76530264],\n",
       "       [0.83567496, 0.00474934, 0.90589179, 0.70762788, 0.44937488,\n",
       "        0.22457326, 0.07501414, 0.60500564, 0.56387101, 0.67704109,\n",
       "        0.66524984, 0.73170317, 0.0611341 , 0.554258  , 0.21935043,\n",
       "        0.19902819, 0.95497196, 0.01786235, 0.4513543 , 0.84040821,\n",
       "        0.22662818, 0.6923472 , 0.06814732, 0.14891995, 0.32106183,\n",
       "        0.85118389, 0.325522  , 0.76515265],\n",
       "       [0.14301992, 0.68762669, 0.60345123, 0.91192981, 0.50222144,\n",
       "        0.86303869, 0.54855511, 0.03885896, 0.50934612, 0.8046492 ,\n",
       "        0.73231229, 0.12059443, 0.63312659, 0.58024866, 0.76624277,\n",
       "        0.60544489, 0.19562617, 0.80673375, 0.10621742, 0.08402645,\n",
       "        0.27271835, 0.72581995, 0.51095448, 0.13741367, 0.82667068,\n",
       "        0.72389516, 0.38063446, 0.68813263],\n",
       "       [0.52284205, 0.93788314, 0.20180839, 0.48741728, 0.72267171,\n",
       "        0.84894946, 0.45045957, 0.16415538, 0.98231492, 0.72255678,\n",
       "        0.66991073, 0.76648397, 0.27293302, 0.43324146, 0.84593752,\n",
       "        0.30962622, 0.37268354, 0.67968001, 0.49957843, 0.63673343,\n",
       "        0.5424651 , 0.03524911, 0.79556425, 0.38957632, 0.98512501,\n",
       "        0.6652268 , 0.54912164, 0.77765881],\n",
       "       [0.01786786, 0.86450885, 0.71916066, 0.96894351, 0.95723778,\n",
       "        0.53708067, 0.79744205, 0.95662918, 0.69505019, 0.08829497,\n",
       "        0.36947414, 0.67503906, 0.15104601, 0.95419251, 0.39480627,\n",
       "        0.07934912, 0.56421933, 0.44073127, 0.78995774, 0.06622631,\n",
       "        0.67954079, 0.07674172, 0.96159529, 0.53309561, 0.9417981 ,\n",
       "        0.93096753, 0.02067801, 0.29325031],\n",
       "       [0.64992787, 0.79704969, 0.39230633, 0.50724871, 0.46249442,\n",
       "        0.3812317 , 0.39971144, 0.2912903 , 0.30629226, 0.68733467,\n",
       "        0.68742691, 0.96362009, 0.38455825, 0.20483572, 0.93344402,\n",
       "        0.77316265, 0.9755141 , 0.76743091, 0.79392491, 0.74661001,\n",
       "        0.99844876, 0.9752799 , 0.87349142, 0.50460494, 0.08064717,\n",
       "        0.89316687, 0.13794006, 0.16552129],\n",
       "       [0.17894298, 0.42622583, 0.18892413, 0.96890892, 0.39999547,\n",
       "        0.06114956, 0.05719674, 0.83046383, 0.16842012, 0.67442905,\n",
       "        0.36311767, 0.17330092, 0.65440695, 0.0056625 , 0.49845882,\n",
       "        0.17562853, 0.03976543, 0.1713079 , 0.62739167, 0.31481238,\n",
       "        0.72751705, 0.88408965, 0.92861005, 0.21900605, 0.05504815,\n",
       "        0.39311872, 0.8590962 , 0.38632241],\n",
       "       [0.47174124, 0.56879785, 0.06849834, 0.81448284, 0.87631368,\n",
       "        0.71452867, 0.72122262, 0.34002434, 0.78280562, 0.66863602,\n",
       "        0.30307841, 0.29011619, 0.18497362, 0.49258305, 0.99431526,\n",
       "        0.34498994, 0.53455148, 0.48839856, 0.76529655, 0.19512047,\n",
       "        0.12866313, 0.98370525, 0.63292687, 0.60199819, 0.59026737,\n",
       "        0.70632219, 0.90680888, 0.28778443],\n",
       "       [0.29892928, 0.30905426, 0.87563283, 0.24077951, 0.39273572,\n",
       "        0.04669787, 0.5798232 , 0.56277951, 0.06508007, 0.33056276,\n",
       "        0.80045604, 0.42772579, 0.24920483, 0.90590944, 0.41429728,\n",
       "        0.76310031, 0.04635997, 0.31426835, 0.38520095, 0.77193538,\n",
       "        0.9830588 , 0.63983009, 0.30796256, 0.55989905, 0.48398306,\n",
       "        0.15751054, 0.00722185, 0.44523018],\n",
       "       [0.83754877, 0.34369239, 0.44762593, 0.47971245, 0.40386997,\n",
       "        0.71088618, 0.95225935, 0.78522806, 0.98108775, 0.61052405,\n",
       "        0.27096662, 0.56335033, 0.74604036, 0.28099242, 0.43506822,\n",
       "        0.06399442, 0.06016818, 0.50915918, 0.68294096, 0.41149573,\n",
       "        0.26938375, 0.21878621, 0.59528943, 0.42086557, 0.01434903,\n",
       "        0.89381038, 0.7104108 , 0.57640652],\n",
       "       [0.08455601, 0.81804052, 0.86254157, 0.39885932, 0.75970249,\n",
       "        0.03098354, 0.16120924, 0.12184535, 0.46752545, 0.60896371,\n",
       "        0.23132613, 0.39201823, 0.86402667, 0.93766908, 0.03519998,\n",
       "        0.01465132, 0.31663753, 0.47244271, 0.72768531, 0.66464353,\n",
       "        0.05402095, 0.50011032, 0.18884588, 0.39796259, 0.61215544,\n",
       "        0.16637011, 0.31359943, 0.28705314],\n",
       "       [0.06710047, 0.9920976 , 0.49242593, 0.84767431, 0.93974536,\n",
       "        0.25634939, 0.98434503, 0.70204224, 0.73469116, 0.94233577,\n",
       "        0.24642731, 0.90145563, 0.51193247, 0.07410353, 0.91946022,\n",
       "        0.51291584, 0.7780248 , 0.03596138, 0.26562326, 0.34403632,\n",
       "        0.21013449, 0.79912224, 0.78280378, 0.18486755, 0.24485325,\n",
       "        0.11018603, 0.16280087, 0.53979436],\n",
       "       [0.9477203 , 0.80894228, 0.06819445, 0.60431899, 0.22442954,\n",
       "        0.37007614, 0.80984767, 0.89741118, 0.16028939, 0.49306769,\n",
       "        0.04507984, 0.8413836 , 0.49167802, 0.58936945, 0.18261305,\n",
       "        0.95615425, 0.81903791, 0.25880343, 0.61994465, 0.57468112,\n",
       "        0.13849612, 0.29095583, 0.09159475, 0.14050334, 0.31670075,\n",
       "        0.13219009, 0.99380265, 0.10946653],\n",
       "       [0.63400179, 0.96843379, 0.80039328, 0.71947927, 0.4727992 ,\n",
       "        0.72798664, 0.70725836, 0.27525836, 0.43528725, 0.53698794,\n",
       "        0.06479162, 0.01277776, 0.44570402, 0.01731075, 0.33395193,\n",
       "        0.30660274, 0.96420734, 0.61728408, 0.1674275 , 0.72291101,\n",
       "        0.30158552, 0.84813113, 0.66287754, 0.44164444, 0.44647503,\n",
       "        0.58803827, 0.65480166, 0.38095466],\n",
       "       [0.55892379, 0.40641519, 0.17740139, 0.82465658, 0.87009833,\n",
       "        0.18725668, 0.99941464, 0.46832051, 0.00270569, 0.68288462,\n",
       "        0.99425656, 0.3299859 , 0.7753099 , 0.74962596, 0.45701997,\n",
       "        0.51378005, 0.31274011, 0.53928206, 0.50848318, 0.52629352,\n",
       "        0.48472661, 0.83241172, 0.16619922, 0.95097323, 0.7702181 ,\n",
       "        0.30964248, 0.42196188, 0.29858356]])"
      ]
     },
     "execution_count": 4,
     "metadata": {},
     "output_type": "execute_result"
    }
   ],
   "source": [
    "x[0,0]"
   ]
  },
  {
   "cell_type": "code",
   "execution_count": 7,
   "metadata": {},
   "outputs": [
    {
     "data": {
      "text/plain": [
       "(9, 75)"
      ]
     },
     "execution_count": 7,
     "metadata": {},
     "output_type": "execute_result"
    }
   ],
   "source": [
    "from im2col import im2col\n",
    "x1 = np.random.rand(1, 3, 7, 7)\n",
    "col1 = im2col(x1, 5, 5, stride = 1, pad = 0)\n",
    "col1.shape"
   ]
  },
  {
   "cell_type": "code",
   "execution_count": 10,
   "metadata": {},
   "outputs": [
    {
     "data": {
      "text/plain": [
       "(90, 75)"
      ]
     },
     "execution_count": 10,
     "metadata": {},
     "output_type": "execute_result"
    }
   ],
   "source": [
    "x2 = np.random.rand(10, 3, 7, 7)\n",
    "col2 = im2col(x2, 5, 5, stride = 1, pad = 0)\n",
    "col2.shape"
   ]
  },
  {
   "cell_type": "code",
   "execution_count": null,
   "metadata": {},
   "outputs": [],
   "source": []
  }
 ],
 "metadata": {
  "kernelspec": {
   "display_name": "Python 3",
   "language": "python",
   "name": "python3"
  },
  "language_info": {
   "codemirror_mode": {
    "name": "ipython",
    "version": 3
   },
   "file_extension": ".py",
   "mimetype": "text/x-python",
   "name": "python",
   "nbconvert_exporter": "python",
   "pygments_lexer": "ipython3",
   "version": "3.7.4"
  }
 },
 "nbformat": 4,
 "nbformat_minor": 2
}
