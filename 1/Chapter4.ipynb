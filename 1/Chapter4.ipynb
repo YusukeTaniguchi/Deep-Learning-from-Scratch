{
 "cells": [
  {
   "cell_type": "code",
   "execution_count": 2,
   "metadata": {},
   "outputs": [
    {
     "data": {
      "text/plain": [
       "0.09750000000000003"
      ]
     },
     "execution_count": 2,
     "metadata": {},
     "output_type": "execute_result"
    }
   ],
   "source": [
    "import numpy as np\n",
    "\n",
    "y = [0.1, 0.05, 0.6, 0.0, 0.05, 0.1, 0.0, 0.1, 0.0, 0.0]\n",
    "t = [0, 0, 1, 0, 0, 0, 0, 0, 0, 0]\n",
    "\n",
    "def mean_squared_error(y, t):\n",
    "    return 0.5 * np.sum((y - t) ** 2)\n",
    "\n",
    "mean_squared_error(np.array(y), np.array(t))"
   ]
  },
  {
   "cell_type": "code",
   "execution_count": 3,
   "metadata": {},
   "outputs": [
    {
     "data": {
      "text/plain": [
       "0.5975"
      ]
     },
     "execution_count": 3,
     "metadata": {},
     "output_type": "execute_result"
    }
   ],
   "source": [
    "y = [0.1, 0.05, 0.1, 0.0, 0.05, 0.1, 0.0, 0.6, 0.0, 0.0]\n",
    "mean_squared_error(np.array(y), np.array(t))"
   ]
  },
  {
   "cell_type": "code",
   "execution_count": 4,
   "metadata": {},
   "outputs": [],
   "source": [
    "def cross_entropy_error(y, t):\n",
    "    delta = 1e-7\n",
    "    return -np.sum(t * np.log(y + delta))"
   ]
  },
  {
   "cell_type": "code",
   "execution_count": 5,
   "metadata": {},
   "outputs": [
    {
     "data": {
      "text/plain": [
       "0.510825457099338"
      ]
     },
     "execution_count": 5,
     "metadata": {},
     "output_type": "execute_result"
    }
   ],
   "source": [
    "y = [0.1, 0.05, 0.6, 0.0, 0.05, 0.1, 0.0, 0.1, 0.0, 0.0]\n",
    "cross_entropy_error(np.array(y), np.array(t))"
   ]
  },
  {
   "cell_type": "code",
   "execution_count": 6,
   "metadata": {},
   "outputs": [
    {
     "data": {
      "text/plain": [
       "2.302584092994546"
      ]
     },
     "execution_count": 6,
     "metadata": {},
     "output_type": "execute_result"
    }
   ],
   "source": [
    "y = [0.1, 0.05, 0.1, 0.0, 0.05, 0.1, 0.0, 0.6, 0.0, 0.0]\n",
    "cross_entropy_error(np.array(y), np.array(t))"
   ]
  },
  {
   "cell_type": "code",
   "execution_count": 8,
   "metadata": {},
   "outputs": [
    {
     "data": {
      "text/plain": [
       "array([46763, 32263, 45632,  8080, 43996, 22268, 31450, 32747, 48676,\n",
       "       47046])"
      ]
     },
     "execution_count": 8,
     "metadata": {},
     "output_type": "execute_result"
    }
   ],
   "source": [
    "np.random.choice(60000, 10)"
   ]
  },
  {
   "cell_type": "code",
   "execution_count": 9,
   "metadata": {},
   "outputs": [],
   "source": [
    "def cross_entropy_error(y, t):\n",
    "    if y.ndim == 1:\n",
    "        t = t.reshape(1, t.size)\n",
    "        y = t.reshape(1, y.size)\n",
    "    batch_size = y.shape[0]\n",
    "    return -np.sum(t * np.log(y + 1e-7))/batch_size"
   ]
  },
  {
   "cell_type": "code",
   "execution_count": 11,
   "metadata": {},
   "outputs": [
    {
     "data": {
      "image/png": "[encoded data removed]",
      "text/plain": [
       "<Figure size 432x288 with 1 Axes>"
      ]
     },
     "metadata": {
      "needs_background": "light"
     },
     "output_type": "display_data"
    }
   ],
   "source": [
    "def function_1(x):\n",
    "    return 0.01 * x ** 2 + 0.1 * x\n",
    "\n",
    "import numpy as np\n",
    "import matplotlib.pylab as plt\n",
    "\n",
    "x = np.arange(0.0, 20.0, 0.1)\n",
    "y = function_1(x)\n",
    "plt.plot(x, y)\n",
    "plt.show()"
   ]
  },
  {
   "cell_type": "code",
   "execution_count": 13,
   "metadata": {},
   "outputs": [],
   "source": [
    "def numerical_diff(f, x):\n",
    "    h = 1e-4\n",
    "    return (f(x + h) - f(x - h)) / (2 * h)"
   ]
  },
  {
   "cell_type": "code",
   "execution_count": 14,
   "metadata": {},
   "outputs": [
    {
     "data": {
      "text/plain": [
       "0.1999999999990898"
      ]
     },
     "execution_count": 14,
     "metadata": {},
     "output_type": "execute_result"
    }
   ],
   "source": [
    "numerical_diff(function_1, 5)"
   ]
  },
  {
   "cell_type": "code",
   "execution_count": 15,
   "metadata": {},
   "outputs": [
    {
     "data": {
      "text/plain": [
       "0.2999999999986347"
      ]
     },
     "execution_count": 15,
     "metadata": {},
     "output_type": "execute_result"
    }
   ],
   "source": [
    "numerical_diff(function_1, 10)"
   ]
  },
  {
   "cell_type": "code",
   "execution_count": 16,
   "metadata": {},
   "outputs": [],
   "source": [
    "def function_2(x):\n",
    "    return np.sum(x ** 2)"
   ]
  },
  {
   "cell_type": "code",
   "execution_count": 17,
   "metadata": {},
   "outputs": [
    {
     "data": {
      "text/plain": [
       "6.00000000000378"
      ]
     },
     "execution_count": 17,
     "metadata": {},
     "output_type": "execute_result"
    }
   ],
   "source": [
    "def function_tmp1(x0):\n",
    "    return x0*x0 + 4.0**2\n",
    "\n",
    "numerical_diff(function_tmp1, 3.0)"
   ]
  },
  {
   "cell_type": "code",
   "execution_count": 18,
   "metadata": {},
   "outputs": [
    {
     "data": {
      "text/plain": [
       "7.999999999999119"
      ]
     },
     "execution_count": 18,
     "metadata": {},
     "output_type": "execute_result"
    }
   ],
   "source": [
    "def function_tmp2(x1):\n",
    "    return 3.0 ** 2 + x1 * x1\n",
    "numerical_diff(function_tmp2, 4.0)"
   ]
  },
  {
   "cell_type": "code",
   "execution_count": 19,
   "metadata": {},
   "outputs": [],
   "source": [
    "def numerical_gradient(f, x):\n",
    "    h = 1e-4\n",
    "    grad = np.zeros_like(x)\n",
    "    \n",
    "    for idx in range(x.size):\n",
    "        tmp_val = x[idx]\n",
    "        x[idx] = tmp_val + h\n",
    "        fxh1 = f(x)\n",
    "        \n",
    "        x[idx] = tmp_val - h\n",
    "        fxh2 = f(x)\n",
    "        \n",
    "        grad[idx] = (fxh1 - fxh2) / (2 * h)\n",
    "        x[idx] = tmp_val\n",
    "    return grad"
   ]
  },
  {
   "cell_type": "code",
   "execution_count": 20,
   "metadata": {},
   "outputs": [
    {
     "data": {
      "text/plain": [
       "array([6., 8.])"
      ]
     },
     "execution_count": 20,
     "metadata": {},
     "output_type": "execute_result"
    }
   ],
   "source": [
    "numerical_gradient(function_2, np.array([3.0, 4.0]))"
   ]
  },
  {
   "cell_type": "code",
   "execution_count": 21,
   "metadata": {},
   "outputs": [
    {
     "data": {
      "text/plain": [
       "array([0., 4.])"
      ]
     },
     "execution_count": 21,
     "metadata": {},
     "output_type": "execute_result"
    }
   ],
   "source": [
    "numerical_gradient(function_2, np.array([0.0, 2.0]))"
   ]
  },
  {
   "cell_type": "code",
   "execution_count": 22,
   "metadata": {},
   "outputs": [
    {
     "data": {
      "text/plain": [
       "array([6., 0.])"
      ]
     },
     "execution_count": 22,
     "metadata": {},
     "output_type": "execute_result"
    }
   ],
   "source": [
    "numerical_gradient(function_2, np.array([3.0, 0.0]))"
   ]
  },
  {
   "cell_type": "code",
   "execution_count": 28,
   "metadata": {},
   "outputs": [],
   "source": [
    "def gradient_descent(f, init_x, lr=0.01, step_num = 100):\n",
    "    x = init_x\n",
    "    for i in range(step_num):\n",
    "        grad = numerical_gradient(f, x)\n",
    "        x -= lr * grad\n",
    "    \n",
    "    return x"
   ]
  },
  {
   "cell_type": "code",
   "execution_count": 29,
   "metadata": {},
   "outputs": [
    {
     "data": {
      "text/plain": [
       "array([-6.11110793e-10,  8.14814391e-10])"
      ]
     },
     "execution_count": 29,
     "metadata": {},
     "output_type": "execute_result"
    }
   ],
   "source": [
    "init_x = np.array([-3.0, 4.0])\n",
    "gradient_descent(function_2, init_x = init_x, lr = 0.1, step_num = 100)"
   ]
  },
  {
   "cell_type": "code",
   "execution_count": 30,
   "metadata": {},
   "outputs": [
    {
     "data": {
      "text/plain": [
       "array([-2.58983747e+13, -1.29524862e+12])"
      ]
     },
     "execution_count": 30,
     "metadata": {},
     "output_type": "execute_result"
    }
   ],
   "source": [
    "init_x = np.array([-3.0, 4.0])\n",
    "gradient_descent(function_2, init_x = init_x, lr = 10, step_num = 100)"
   ]
  },
  {
   "cell_type": "code",
   "execution_count": 31,
   "metadata": {},
   "outputs": [
    {
     "data": {
      "text/plain": [
       "array([-2.99999994,  3.99999992])"
      ]
     },
     "execution_count": 31,
     "metadata": {},
     "output_type": "execute_result"
    }
   ],
   "source": [
    "init_x = np.array([-3.0, 4.0])\n",
    "gradient_descent(function_2, init_x = init_x, lr = 1e-10, step_num = 100)"
   ]
  },
  {
   "cell_type": "code",
   "execution_count": 1,
   "metadata": {},
   "outputs": [],
   "source": [
    "import numpy as np\n",
    "from functions import softmax, cross_entropy_error\n",
    "from gradient import numerical_gradient\n",
    "\n",
    "class simpleNet:\n",
    "    def __init__(self):\n",
    "        self.W = np.random.randn(2, 3)\n",
    "        \n",
    "    def predict(self, x):\n",
    "        return np.dot(x, self.W)\n",
    "    \n",
    "    def loss(self, x, t):\n",
    "        z = self.predict(x)\n",
    "        y = softmax(z)\n",
    "        loss = cross_entropy_error(y,t)\n",
    "        \n",
    "        return loss"
   ]
  },
  {
   "cell_type": "code",
   "execution_count": 4,
   "metadata": {},
   "outputs": [
    {
     "name": "stdout",
     "output_type": "stream",
     "text": [
      "[[0.61386309 1.00849975 0.72168031]\n",
      " [1.00892773 1.39487228 1.1352884 ]]\n"
     ]
    }
   ],
   "source": [
    "net = simpleNet()\n",
    "print(net.W)"
   ]
  },
  {
   "cell_type": "code",
   "execution_count": 6,
   "metadata": {},
   "outputs": [
    {
     "data": {
      "text/plain": [
       "array([1.27635281, 1.8604849 , 1.45476775])"
      ]
     },
     "execution_count": 6,
     "metadata": {},
     "output_type": "execute_result"
    }
   ],
   "source": [
    "x = np.array([0.6, 0.9])\n",
    "p = net.predict(x)\n",
    "p"
   ]
  },
  {
   "cell_type": "code",
   "execution_count": 7,
   "metadata": {},
   "outputs": [
    {
     "data": {
      "text/plain": [
       "1"
      ]
     },
     "execution_count": 7,
     "metadata": {},
     "output_type": "execute_result"
    }
   ],
   "source": [
    "np.argmax(p)"
   ]
  },
  {
   "cell_type": "code",
   "execution_count": 10,
   "metadata": {},
   "outputs": [
    {
     "data": {
      "text/plain": [
       "1.205063876181728"
      ]
     },
     "execution_count": 10,
     "metadata": {},
     "output_type": "execute_result"
    }
   ],
   "source": [
    "t = np.array([0,0,1])\n",
    "net.loss(x,t)"
   ]
  },
  {
   "cell_type": "code",
   "execution_count": 12,
   "metadata": {},
   "outputs": [
    {
     "data": {
      "text/plain": [
       "array([[ 0.15042283,  0.26977338, -0.42019621],\n",
       "       [ 0.22563424,  0.40466007, -0.63029431]])"
      ]
     },
     "execution_count": 12,
     "metadata": {},
     "output_type": "execute_result"
    }
   ],
   "source": [
    "def f(W):\n",
    "    return net.loss(x, t)\n",
    "\n",
    "dW = numerical_gradient(f, net.W)\n",
    "dW"
   ]
  },
  {
   "cell_type": "code",
   "execution_count": 2,
   "metadata": {},
   "outputs": [],
   "source": [
    "import numpy as np\n",
    "from functions import *\n",
    "from gradient import numerical_gradient\n",
    "\n",
    "class TwoLayerNet:\n",
    "    \n",
    "    def __init__(self, input_size, hidden_size, output_size, weight_init_std = 0.01):\n",
    "        self.params = {}\n",
    "        self.params[\"W1\"] = weight_init_std * np.random.randn(input_size, hidden_size)\n",
    "        self.params[\"b1\"] = np.zeros(hidden_size)\n",
    "        self.params[\"W2\"] = weight_init_std * np.random.randn(hidden_size, output_size)\n",
    "        self.params[\"b2\"] = np.zeros(output_size)\n",
    "    \n",
    "    def predict(self, x):\n",
    "        W1, W2 = self.params[\"W1\"], self.params[\"W2\"]\n",
    "        b1, b2 = self.params[\"b1\"], self.params[\"b2\"]\n",
    "        \n",
    "        a1 = np.dot(x, W1) + b1\n",
    "        z1 = sigmoid(a1)\n",
    "        a2 = np.dot(z1, W2) + b2\n",
    "        y = softmax(a2)\n",
    "        \n",
    "        return y\n",
    "    \n",
    "    def loss(self, x, t):\n",
    "        y = self.predict(x)\n",
    "        \n",
    "        return cross_entropy_error(y, t)\n",
    "    \n",
    "    def accuracy(self, x, t):\n",
    "        y = self.predict(x)\n",
    "        y = np.argmax(y, axis = 1)\n",
    "        t = np.argmax(t, axis = 1)\n",
    "        \n",
    "        accuracy = np.sum(y == t) / float(s.shape[0])\n",
    "        \n",
    "        return accuracy\n",
    "    \n",
    "    def numerical_gradient(self, x, t):\n",
    "        loss_W = lambda W : self.loss(x, t)\n",
    "        \n",
    "        grads = {}\n",
    "        grads[\"W1\"] = numerical_gradient(loss_W, self.params[\"W1\"])\n",
    "        grads[\"b1\"] = numerical_gradient(loss_W, self.params[\"b1\"])\n",
    "        grads[\"W2\"] = numerical_gradient(loss_W, self.params[\"W2\"])\n",
    "        grads[\"b2\"] = numerical_gradient(loss_W, self.params[\"b2\"])\n",
    "        \n",
    "        return grads"
   ]
  },
  {
   "cell_type": "code",
   "execution_count": 2,
   "metadata": {},
   "outputs": [
    {
     "data": {
      "text/plain": [
       "(784, 100)"
      ]
     },
     "execution_count": 2,
     "metadata": {},
     "output_type": "execute_result"
    }
   ],
   "source": [
    "net = TwoLayerNet(input_size = 784, hidden_size = 100, output_size = 10)\n",
    "net.params[\"W1\"].shape"
   ]
  },
  {
   "cell_type": "code",
   "execution_count": 3,
   "metadata": {},
   "outputs": [
    {
     "data": {
      "text/plain": [
       "(100,)"
      ]
     },
     "execution_count": 3,
     "metadata": {},
     "output_type": "execute_result"
    }
   ],
   "source": [
    "net.params[\"b1\"].shape"
   ]
  },
  {
   "cell_type": "code",
   "execution_count": 4,
   "metadata": {},
   "outputs": [
    {
     "data": {
      "text/plain": [
       "(100, 10)"
      ]
     },
     "execution_count": 4,
     "metadata": {},
     "output_type": "execute_result"
    }
   ],
   "source": [
    "net.params[\"W2\"].shape"
   ]
  },
  {
   "cell_type": "code",
   "execution_count": 5,
   "metadata": {},
   "outputs": [
    {
     "data": {
      "text/plain": [
       "(10,)"
      ]
     },
     "execution_count": 5,
     "metadata": {},
     "output_type": "execute_result"
    }
   ],
   "source": [
    "net.params[\"b2\"].shape"
   ]
  },
  {
   "cell_type": "code",
   "execution_count": 6,
   "metadata": {},
   "outputs": [
    {
     "data": {
      "text/plain": [
       "array([[0.09756306, 0.10031272, 0.10060266, 0.10135859, 0.10212724,\n",
       "        0.09467993, 0.09929564, 0.10862662, 0.09711601, 0.09831756],\n",
       "       [0.09721038, 0.10020483, 0.10065244, 0.10180472, 0.10207986,\n",
       "        0.09535591, 0.09908263, 0.10857265, 0.09701099, 0.09802559],\n",
       "       [0.09743988, 0.09984469, 0.10075639, 0.1016127 , 0.10200045,\n",
       "        0.0950496 , 0.09891259, 0.10919225, 0.09713068, 0.09806078],\n",
       "       [0.0967377 , 0.10033565, 0.10040582, 0.10155689, 0.10235177,\n",
       "        0.09502801, 0.09935367, 0.10886901, 0.09709517, 0.09826632],\n",
       "       [0.0973941 , 0.09973954, 0.10062548, 0.10141941, 0.10207128,\n",
       "        0.09534529, 0.09941559, 0.10881483, 0.09694188, 0.09823259],\n",
       "       [0.09717085, 0.10005645, 0.10065445, 0.10155808, 0.1021083 ,\n",
       "        0.09506918, 0.09920629, 0.10917507, 0.09701652, 0.0979848 ],\n",
       "       [0.09714027, 0.10008482, 0.10072372, 0.10151185, 0.10225317,\n",
       "        0.09534213, 0.09917682, 0.10877587, 0.09704246, 0.0979489 ],\n",
       "       [0.09735696, 0.09991901, 0.10057397, 0.10151558, 0.10229837,\n",
       "        0.09501329, 0.09952838, 0.10862346, 0.09701111, 0.09815987],\n",
       "       [0.09767442, 0.10010741, 0.10044465, 0.10172437, 0.10215824,\n",
       "        0.09498014, 0.09922465, 0.10855378, 0.09694291, 0.09818944],\n",
       "       [0.09724607, 0.10022085, 0.10016195, 0.10184413, 0.102034  ,\n",
       "        0.09498234, 0.09913319, 0.10889216, 0.09727416, 0.09821116],\n",
       "       [0.09700556, 0.09998876, 0.10088106, 0.1019133 , 0.10193192,\n",
       "        0.09512147, 0.09917176, 0.10891186, 0.09682525, 0.09824906],\n",
       "       [0.09711652, 0.10018141, 0.10091892, 0.10163177, 0.10182629,\n",
       "        0.0952798 , 0.09926387, 0.10881159, 0.09705318, 0.09791665],\n",
       "       [0.09732564, 0.10028395, 0.10064652, 0.10195888, 0.10182927,\n",
       "        0.09481054, 0.09915601, 0.1089364 , 0.09701834, 0.09803444],\n",
       "       [0.09709855, 0.09994817, 0.10070464, 0.10161994, 0.10258695,\n",
       "        0.09497911, 0.09947323, 0.10854142, 0.09690154, 0.09814645],\n",
       "       [0.09752392, 0.10017685, 0.10070738, 0.1015342 , 0.10177408,\n",
       "        0.0955122 , 0.09907815, 0.1086429 , 0.09706664, 0.09798368],\n",
       "       [0.09770573, 0.1002243 , 0.1004509 , 0.10153212, 0.1024272 ,\n",
       "        0.0949225 , 0.09908959, 0.10886039, 0.09697333, 0.09781394],\n",
       "       [0.09751642, 0.09977453, 0.10066164, 0.10143039, 0.10215425,\n",
       "        0.09542068, 0.09900263, 0.10879758, 0.09753103, 0.09771087],\n",
       "       [0.0972272 , 0.09998718, 0.10070384, 0.10184283, 0.10261551,\n",
       "        0.09506351, 0.09905139, 0.10896674, 0.09685012, 0.09769167],\n",
       "       [0.0973371 , 0.10025939, 0.10019214, 0.1017345 , 0.10216445,\n",
       "        0.09523587, 0.09930033, 0.10901378, 0.09676461, 0.09799784],\n",
       "       [0.09714238, 0.10004695, 0.10084063, 0.1015334 , 0.10239972,\n",
       "        0.09494537, 0.09901528, 0.10877664, 0.09722669, 0.09807294],\n",
       "       [0.09724774, 0.0999185 , 0.10073458, 0.10156602, 0.10240104,\n",
       "        0.09489286, 0.09929048, 0.10890495, 0.09699985, 0.09804397],\n",
       "       [0.09751292, 0.10010648, 0.1002922 , 0.10190894, 0.10221029,\n",
       "        0.09533261, 0.09901494, 0.10841654, 0.09728326, 0.09792181],\n",
       "       [0.09722325, 0.1001946 , 0.10061737, 0.10167567, 0.1023424 ,\n",
       "        0.09486957, 0.0991637 , 0.10897444, 0.09690376, 0.09803525],\n",
       "       [0.0976166 , 0.10035841, 0.10024161, 0.10169851, 0.10197515,\n",
       "        0.09505246, 0.09916052, 0.10849304, 0.09705519, 0.09834851],\n",
       "       [0.09752608, 0.09963741, 0.10089299, 0.10168155, 0.10238555,\n",
       "        0.0950786 , 0.09928705, 0.1085408 , 0.09699169, 0.09797826],\n",
       "       [0.09776446, 0.10011768, 0.10040235, 0.10171374, 0.10183327,\n",
       "        0.09489104, 0.09925715, 0.10854348, 0.09726726, 0.09820958],\n",
       "       [0.09713476, 0.09983448, 0.10062101, 0.10156018, 0.10222168,\n",
       "        0.09545763, 0.09946805, 0.1084542 , 0.09717338, 0.09807462],\n",
       "       [0.09732795, 0.10005859, 0.10042389, 0.10151461, 0.10246268,\n",
       "        0.09537763, 0.09936898, 0.10841291, 0.09682971, 0.09822305],\n",
       "       [0.09737787, 0.09975464, 0.10111507, 0.10123125, 0.10241413,\n",
       "        0.09513073, 0.09947647, 0.10872897, 0.09686632, 0.09790455],\n",
       "       [0.09721826, 0.10016611, 0.10073203, 0.1019267 , 0.10211298,\n",
       "        0.0951033 , 0.09905049, 0.10854256, 0.09714543, 0.09800214],\n",
       "       [0.09761014, 0.10014779, 0.10038122, 0.10159498, 0.10210972,\n",
       "        0.09489774, 0.09921236, 0.10893402, 0.09708697, 0.09802507],\n",
       "       [0.09739797, 0.09980386, 0.10068961, 0.10163528, 0.1019888 ,\n",
       "        0.09501991, 0.09933049, 0.10917364, 0.096683  , 0.09827743],\n",
       "       [0.09759948, 0.10046967, 0.10083367, 0.10180154, 0.10207977,\n",
       "        0.09476043, 0.09924083, 0.10821862, 0.09708489, 0.0979111 ],\n",
       "       [0.09747864, 0.09995197, 0.10073282, 0.10181449, 0.10199853,\n",
       "        0.09508703, 0.09876971, 0.10878267, 0.09723187, 0.09815227],\n",
       "       [0.09737878, 0.10004084, 0.10086996, 0.10181978, 0.10207975,\n",
       "        0.09517584, 0.09891508, 0.10866425, 0.09697432, 0.0980814 ],\n",
       "       [0.09713835, 0.10010883, 0.10042237, 0.10193904, 0.10192849,\n",
       "        0.09528155, 0.09880402, 0.10898559, 0.09717398, 0.09821778],\n",
       "       [0.09736463, 0.10002412, 0.10065766, 0.10157345, 0.10209103,\n",
       "        0.09515983, 0.09940058, 0.10894077, 0.09685001, 0.09793793],\n",
       "       [0.09737673, 0.10013879, 0.10039057, 0.10179662, 0.10240782,\n",
       "        0.09510882, 0.09934593, 0.10845754, 0.0968972 , 0.09807997],\n",
       "       [0.0975037 , 0.10001526, 0.10083501, 0.10179797, 0.10193279,\n",
       "        0.09507177, 0.09900787, 0.10889705, 0.09703546, 0.09790311],\n",
       "       [0.09717913, 0.09992024, 0.10082473, 0.10168584, 0.10217549,\n",
       "        0.09524971, 0.09931668, 0.10884671, 0.09673187, 0.09806959],\n",
       "       [0.09747719, 0.1002297 , 0.1008349 , 0.10174296, 0.10178187,\n",
       "        0.09506427, 0.09922191, 0.10865072, 0.09711026, 0.09788621],\n",
       "       [0.09748842, 0.1000728 , 0.10038794, 0.1014909 , 0.10219065,\n",
       "        0.0952026 , 0.0995405 , 0.10859827, 0.09687291, 0.09815501],\n",
       "       [0.09719855, 0.09980076, 0.10066997, 0.10165546, 0.10218642,\n",
       "        0.09521769, 0.09944321, 0.10873376, 0.0969117 , 0.09818248],\n",
       "       [0.09749369, 0.09991143, 0.10060706, 0.10184865, 0.1019813 ,\n",
       "        0.09522924, 0.09931419, 0.10853021, 0.09681556, 0.09826866],\n",
       "       [0.09707567, 0.10035922, 0.10078183, 0.10150504, 0.10218363,\n",
       "        0.0948914 , 0.09958602, 0.10869914, 0.09664587, 0.09827218],\n",
       "       [0.09747871, 0.10012407, 0.10065386, 0.10159223, 0.10223418,\n",
       "        0.09501368, 0.09951694, 0.10856765, 0.09674313, 0.09807556],\n",
       "       [0.09690156, 0.10043578, 0.1007447 , 0.10145254, 0.10231811,\n",
       "        0.0950626 , 0.09901106, 0.10901679, 0.09698937, 0.0980675 ],\n",
       "       [0.09733906, 0.10018117, 0.1004013 , 0.10173976, 0.10227568,\n",
       "        0.09495619, 0.09916965, 0.10884232, 0.09721577, 0.09787909],\n",
       "       [0.09695292, 0.10007547, 0.10070975, 0.10163318, 0.1021838 ,\n",
       "        0.09549931, 0.09912895, 0.10856732, 0.09707066, 0.09817864],\n",
       "       [0.09752725, 0.09967774, 0.10036288, 0.101603  , 0.10248137,\n",
       "        0.09526168, 0.0995432 , 0.10855842, 0.09693319, 0.09805127],\n",
       "       [0.09728639, 0.0999289 , 0.10079943, 0.10184978, 0.10212461,\n",
       "        0.09497086, 0.09921352, 0.10864041, 0.09721352, 0.09797258],\n",
       "       [0.09754309, 0.10041155, 0.10054512, 0.10167838, 0.10217202,\n",
       "        0.09501426, 0.09909628, 0.10866357, 0.09697819, 0.09789755],\n",
       "       [0.09765363, 0.09996018, 0.10070676, 0.10175182, 0.10192162,\n",
       "        0.09522767, 0.09880451, 0.10871793, 0.09729667, 0.09795921],\n",
       "       [0.09717851, 0.10031875, 0.10055626, 0.10167704, 0.10228997,\n",
       "        0.0949466 , 0.09884389, 0.10888627, 0.09702757, 0.09827515],\n",
       "       [0.09717368, 0.10033074, 0.10054184, 0.10179185, 0.10211189,\n",
       "        0.09487201, 0.09915229, 0.10877766, 0.09696939, 0.09827864],\n",
       "       [0.09719546, 0.09987177, 0.10016776, 0.10198728, 0.10223288,\n",
       "        0.09540195, 0.0993402 , 0.10885967, 0.09689726, 0.09804577],\n",
       "       [0.09729119, 0.10016777, 0.10079552, 0.10184554, 0.10212422,\n",
       "        0.09500221, 0.09923738, 0.1083697 , 0.09687577, 0.09829069],\n",
       "       [0.0975201 , 0.10014155, 0.10081069, 0.10130537, 0.10205646,\n",
       "        0.09487097, 0.09955656, 0.10869632, 0.09668871, 0.09835327],\n",
       "       [0.09728937, 0.10015834, 0.10074678, 0.10185578, 0.10180777,\n",
       "        0.09511757, 0.0992078 , 0.1087312 , 0.09675105, 0.09833435],\n",
       "       [0.09755382, 0.09992644, 0.10070161, 0.10148094, 0.1021105 ,\n",
       "        0.09529973, 0.09908553, 0.10881651, 0.09698897, 0.09803597],\n",
       "       [0.0973083 , 0.10031082, 0.10043647, 0.10144909, 0.10210067,\n",
       "        0.09505961, 0.09938585, 0.10866054, 0.09711025, 0.09817839],\n",
       "       [0.09748793, 0.10021963, 0.10040571, 0.10150663, 0.10215655,\n",
       "        0.09527582, 0.09914245, 0.10865517, 0.09717049, 0.09797962],\n",
       "       [0.09748492, 0.10007544, 0.10070243, 0.10175958, 0.10205741,\n",
       "        0.09498436, 0.09921358, 0.10870267, 0.09683794, 0.09818167],\n",
       "       [0.0974547 , 0.09967449, 0.10006481, 0.10175978, 0.10251495,\n",
       "        0.09515051, 0.0994637 , 0.10863918, 0.09732963, 0.09794824],\n",
       "       [0.0970017 , 0.09999009, 0.10085213, 0.10189452, 0.10242206,\n",
       "        0.09525322, 0.09893752, 0.10863185, 0.09699606, 0.09802084],\n",
       "       [0.09735831, 0.10013207, 0.10065001, 0.10154275, 0.10240687,\n",
       "        0.09513338, 0.09915061, 0.10851606, 0.09701083, 0.09809912],\n",
       "       [0.0975341 , 0.09994262, 0.10046776, 0.10187382, 0.10202587,\n",
       "        0.09479716, 0.09920271, 0.10856107, 0.09742508, 0.09816981],\n",
       "       [0.09752308, 0.09969907, 0.10047437, 0.10177582, 0.10191025,\n",
       "        0.0952833 , 0.09922896, 0.10892144, 0.09690864, 0.09827508],\n",
       "       [0.09700351, 0.09999657, 0.1002927 , 0.10164042, 0.10226973,\n",
       "        0.09522418, 0.09937168, 0.10910146, 0.09692729, 0.09817245],\n",
       "       [0.09730381, 0.10040154, 0.10066033, 0.10178651, 0.10218211,\n",
       "        0.09477775, 0.09920179, 0.10847314, 0.09715819, 0.09805483],\n",
       "       [0.09765919, 0.10024152, 0.10031696, 0.10144204, 0.102337  ,\n",
       "        0.09491892, 0.0991805 , 0.10867316, 0.09722638, 0.09800432],\n",
       "       [0.09748318, 0.10034976, 0.10083714, 0.1015948 , 0.10191785,\n",
       "        0.09510494, 0.09903989, 0.10852561, 0.09710822, 0.09803861],\n",
       "       [0.09738099, 0.10027964, 0.10084094, 0.10225654, 0.10216001,\n",
       "        0.09474185, 0.09917626, 0.10842603, 0.09689518, 0.09784255],\n",
       "       [0.09710905, 0.10031343, 0.10090106, 0.10167217, 0.10191988,\n",
       "        0.09522393, 0.09931177, 0.10870247, 0.09683125, 0.09801501],\n",
       "       [0.09752337, 0.10009717, 0.10086747, 0.10146102, 0.10213273,\n",
       "        0.09504315, 0.09903281, 0.10878845, 0.09697404, 0.09807978],\n",
       "       [0.09762188, 0.10036813, 0.09997817, 0.10174776, 0.10228596,\n",
       "        0.09485969, 0.09927378, 0.10896943, 0.09700573, 0.09788947],\n",
       "       [0.09712578, 0.09978409, 0.10058035, 0.10160228, 0.10240825,\n",
       "        0.09515716, 0.09955116, 0.1085153 , 0.09720406, 0.09807158],\n",
       "       [0.09705392, 0.09978799, 0.10029632, 0.10228202, 0.1023889 ,\n",
       "        0.09544801, 0.09912316, 0.1086059 , 0.09700859, 0.09800517],\n",
       "       [0.09741038, 0.09999141, 0.10046636, 0.10150929, 0.10246998,\n",
       "        0.09522716, 0.09931057, 0.10845443, 0.09713238, 0.09802804],\n",
       "       [0.09765013, 0.10014769, 0.10046465, 0.10160705, 0.10200139,\n",
       "        0.09534599, 0.09879584, 0.10844133, 0.0973215 , 0.09822444],\n",
       "       [0.09756918, 0.09986909, 0.10052604, 0.10136693, 0.1021729 ,\n",
       "        0.0953192 , 0.09925735, 0.10901154, 0.0969331 , 0.09797468],\n",
       "       [0.09746497, 0.10032979, 0.10055705, 0.10197389, 0.10167759,\n",
       "        0.09521445, 0.0990621 , 0.10840065, 0.09718046, 0.09813904],\n",
       "       [0.09729642, 0.10028333, 0.10043833, 0.1015511 , 0.10254014,\n",
       "        0.09504937, 0.09918636, 0.10844123, 0.09692793, 0.09828579],\n",
       "       [0.09744691, 0.10039915, 0.1005286 , 0.10179748, 0.10187426,\n",
       "        0.09497323, 0.09913366, 0.10881012, 0.09708019, 0.0979564 ],\n",
       "       [0.09731922, 0.10007583, 0.10072612, 0.10173866, 0.10196986,\n",
       "        0.09502974, 0.09939304, 0.10877508, 0.09709332, 0.09787914],\n",
       "       [0.09760975, 0.09989291, 0.10041522, 0.10156268, 0.10200567,\n",
       "        0.09518591, 0.09938423, 0.10899573, 0.09691597, 0.09803192],\n",
       "       [0.09742262, 0.1001131 , 0.10054502, 0.10158072, 0.10198598,\n",
       "        0.09513808, 0.09927868, 0.10897215, 0.09700817, 0.09795548],\n",
       "       [0.09727112, 0.09954187, 0.10058936, 0.10184113, 0.10247979,\n",
       "        0.09496822, 0.09899157, 0.10902093, 0.09719139, 0.09810461],\n",
       "       [0.09751796, 0.09986872, 0.10050017, 0.10176632, 0.10212828,\n",
       "        0.09530631, 0.099461  , 0.1086472 , 0.09675736, 0.09804668],\n",
       "       [0.09725533, 0.10006564, 0.10059434, 0.1017692 , 0.10217866,\n",
       "        0.09516437, 0.0990793 , 0.10869899, 0.09705976, 0.09813441],\n",
       "       [0.09718504, 0.10034913, 0.10052498, 0.10170969, 0.10229274,\n",
       "        0.09487159, 0.0994637 , 0.10842392, 0.09710951, 0.09806972],\n",
       "       [0.09740156, 0.10028137, 0.1008661 , 0.10138704, 0.10236122,\n",
       "        0.0947641 , 0.09934199, 0.10846383, 0.09690723, 0.09822556],\n",
       "       [0.09711635, 0.10006285, 0.10103073, 0.10166484, 0.10245296,\n",
       "        0.09496834, 0.09906768, 0.10900629, 0.0965043 , 0.09812565],\n",
       "       [0.09752779, 0.09978553, 0.10045954, 0.10164687, 0.10209094,\n",
       "        0.09536595, 0.09927429, 0.10878499, 0.09712297, 0.09794113],\n",
       "       [0.09717098, 0.09979245, 0.10053625, 0.10167546, 0.10230122,\n",
       "        0.09517299, 0.09927515, 0.10905767, 0.09707789, 0.09793995],\n",
       "       [0.09715825, 0.10001814, 0.10057086, 0.10166953, 0.10254868,\n",
       "        0.09505234, 0.09932213, 0.10862327, 0.09683271, 0.0982041 ],\n",
       "       [0.09733921, 0.10023656, 0.10077045, 0.10141087, 0.10213542,\n",
       "        0.09505483, 0.09925051, 0.1085177 , 0.09706724, 0.09821721],\n",
       "       [0.09743576, 0.09996106, 0.1005254 , 0.10189482, 0.10236085,\n",
       "        0.0949034 , 0.09915723, 0.10864276, 0.09718688, 0.09793182],\n",
       "       [0.09735171, 0.10023296, 0.10070493, 0.10149157, 0.10252833,\n",
       "        0.09502362, 0.09928501, 0.10850166, 0.09708784, 0.09779237],\n",
       "       [0.09721271, 0.09985254, 0.10034144, 0.10160183, 0.10268668,\n",
       "        0.09485622, 0.09944495, 0.10886011, 0.0970448 , 0.09809872]])"
      ]
     },
     "execution_count": 6,
     "metadata": {},
     "output_type": "execute_result"
    }
   ],
   "source": [
    "x = np.random.rand(100, 784)\n",
    "y = net.predict(x)\n",
    "y"
   ]
  },
  {
   "cell_type": "code",
   "execution_count": 7,
   "metadata": {},
   "outputs": [],
   "source": [
    "x = np.random.rand(100, 784)\n",
    "t = np.random.rand(100, 10)\n",
    "\n",
    "grads = net.numerical_gradient(x, t)"
   ]
  },
  {
   "cell_type": "code",
   "execution_count": 8,
   "metadata": {},
   "outputs": [
    {
     "data": {
      "text/plain": [
       "(784, 100)"
      ]
     },
     "execution_count": 8,
     "metadata": {},
     "output_type": "execute_result"
    }
   ],
   "source": [
    "grads[\"W1\"].shape"
   ]
  },
  {
   "cell_type": "code",
   "execution_count": 9,
   "metadata": {},
   "outputs": [
    {
     "data": {
      "text/plain": [
       "(100,)"
      ]
     },
     "execution_count": 9,
     "metadata": {},
     "output_type": "execute_result"
    }
   ],
   "source": [
    "grads[\"b1\"].shape"
   ]
  },
  {
   "cell_type": "code",
   "execution_count": 10,
   "metadata": {},
   "outputs": [
    {
     "data": {
      "text/plain": [
       "(100, 10)"
      ]
     },
     "execution_count": 10,
     "metadata": {},
     "output_type": "execute_result"
    }
   ],
   "source": [
    "grads[\"W2\"].shape"
   ]
  },
  {
   "cell_type": "code",
   "execution_count": 11,
   "metadata": {},
   "outputs": [
    {
     "data": {
      "text/plain": [
       "(10,)"
      ]
     },
     "execution_count": 11,
     "metadata": {},
     "output_type": "execute_result"
    }
   ],
   "source": [
    "grads[\"b2\"].shape"
   ]
  },
  {
   "cell_type": "code",
   "execution_count": 3,
   "metadata": {},
   "outputs": [],
   "source": [
    "import numpy as np\n",
    "from dataset.mnist import load_mnist\n",
    "\n",
    "train_loss_list = []\n",
    "\n",
    "(x_train, t_train), (x_test, t_test) = load_mnist(normalize = True, one_hot_label = True)\n",
    "\n",
    "iters_num = 1\n",
    "train_size = x_train.shape[0]\n",
    "batch_size = 100\n",
    "learning_rate = 0.1\n",
    "\n",
    "network = TwoLayerNet(input_size = 784, hidden_size = 100, output_size = 10)\n",
    "\n",
    "for i in range(iters_num):\n",
    "    batch_mask = np.random.choice(train_size, batch_size)\n",
    "    x_batch = x_train[batch_mask]\n",
    "    t_batch = t_train[batch_mask]\n",
    "    \n",
    "    grad = network.numerical_gradient(x_batch, t_batch)\n",
    "    \n",
    "    for key in (\"W1\", \"b1\", \"W2\", \"b2\"):\n",
    "        network.params[key] -= learning_rate * grad[key]\n",
    "        \n",
    "    loss = network.loss(x_batch, t_batch)\n",
    "    train_loss_list.append(loss)"
   ]
  },
  {
   "cell_type": "code",
   "execution_count": null,
   "metadata": {},
   "outputs": [],
   "source": [
    "import matlplotlib.plplot as plt\n",
    "%matplotlib inline"
   ]
  }
 ],
 "metadata": {
  "kernelspec": {
   "display_name": "Python 3",
   "language": "python",
   "name": "python3"
  },
  "language_info": {
   "codemirror_mode": {
    "name": "ipython",
    "version": 3
   },
   "file_extension": ".py",
   "mimetype": "text/x-python",
   "name": "python",
   "nbconvert_exporter": "python",
   "pygments_lexer": "ipython3",
   "version": "3.7.4"
  }
 },
 "nbformat": 4,
 "nbformat_minor": 2
}
